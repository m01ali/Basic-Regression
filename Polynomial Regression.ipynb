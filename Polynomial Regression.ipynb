{
 "cells": [
  {
   "cell_type": "code",
   "execution_count": 1,
   "id": "dd041d73-440b-4908-92f4-ebddf9adf92c",
   "metadata": {},
   "outputs": [],
   "source": [
    "import pandas as pd\n",
    "import numpy as np\n",
    "import sklearn\n",
    "import matplotlib.pyplot as plt"
   ]
  },
  {
   "cell_type": "code",
   "execution_count": 2,
   "id": "9ff01087-2e61-40ea-a815-9cfcd4743836",
   "metadata": {},
   "outputs": [
    {
     "data": {
      "text/html": [
       "<div>\n",
       "<style scoped>\n",
       "    .dataframe tbody tr th:only-of-type {\n",
       "        vertical-align: middle;\n",
       "    }\n",
       "\n",
       "    .dataframe tbody tr th {\n",
       "        vertical-align: top;\n",
       "    }\n",
       "\n",
       "    .dataframe thead th {\n",
       "        text-align: right;\n",
       "    }\n",
       "</style>\n",
       "<table border=\"1\" class=\"dataframe\">\n",
       "  <thead>\n",
       "    <tr style=\"text-align: right;\">\n",
       "      <th></th>\n",
       "      <th>Position</th>\n",
       "      <th>Level</th>\n",
       "      <th>Salary</th>\n",
       "    </tr>\n",
       "  </thead>\n",
       "  <tbody>\n",
       "    <tr>\n",
       "      <th>0</th>\n",
       "      <td>Business Analyst</td>\n",
       "      <td>1</td>\n",
       "      <td>45000</td>\n",
       "    </tr>\n",
       "    <tr>\n",
       "      <th>1</th>\n",
       "      <td>Junior Consultant</td>\n",
       "      <td>2</td>\n",
       "      <td>50000</td>\n",
       "    </tr>\n",
       "    <tr>\n",
       "      <th>2</th>\n",
       "      <td>Senior Consultant</td>\n",
       "      <td>3</td>\n",
       "      <td>60000</td>\n",
       "    </tr>\n",
       "    <tr>\n",
       "      <th>3</th>\n",
       "      <td>Manager</td>\n",
       "      <td>4</td>\n",
       "      <td>80000</td>\n",
       "    </tr>\n",
       "    <tr>\n",
       "      <th>4</th>\n",
       "      <td>Country Manager</td>\n",
       "      <td>5</td>\n",
       "      <td>110000</td>\n",
       "    </tr>\n",
       "    <tr>\n",
       "      <th>5</th>\n",
       "      <td>Region Manager</td>\n",
       "      <td>6</td>\n",
       "      <td>150000</td>\n",
       "    </tr>\n",
       "    <tr>\n",
       "      <th>6</th>\n",
       "      <td>Partner</td>\n",
       "      <td>7</td>\n",
       "      <td>200000</td>\n",
       "    </tr>\n",
       "    <tr>\n",
       "      <th>7</th>\n",
       "      <td>Senior Partner</td>\n",
       "      <td>8</td>\n",
       "      <td>300000</td>\n",
       "    </tr>\n",
       "    <tr>\n",
       "      <th>8</th>\n",
       "      <td>C-level</td>\n",
       "      <td>9</td>\n",
       "      <td>500000</td>\n",
       "    </tr>\n",
       "    <tr>\n",
       "      <th>9</th>\n",
       "      <td>CEO</td>\n",
       "      <td>10</td>\n",
       "      <td>1000000</td>\n",
       "    </tr>\n",
       "  </tbody>\n",
       "</table>\n",
       "</div>"
      ],
      "text/plain": [
       "            Position  Level   Salary\n",
       "0   Business Analyst      1    45000\n",
       "1  Junior Consultant      2    50000\n",
       "2  Senior Consultant      3    60000\n",
       "3            Manager      4    80000\n",
       "4    Country Manager      5   110000\n",
       "5     Region Manager      6   150000\n",
       "6            Partner      7   200000\n",
       "7     Senior Partner      8   300000\n",
       "8            C-level      9   500000\n",
       "9                CEO     10  1000000"
      ]
     },
     "execution_count": 2,
     "metadata": {},
     "output_type": "execute_result"
    }
   ],
   "source": [
    "salaries_df = pd.read_csv(\"Position_Salaries.csv\")\n",
    "salaries_df"
   ]
  },
  {
   "cell_type": "code",
   "execution_count": 3,
   "id": "591ba893-659a-499f-8d74-5043156ba82e",
   "metadata": {},
   "outputs": [],
   "source": [
    "X = salaries_df[\"Level\"].values.reshape(-1,1) # We dont want to consider the Position column cause we can already decide the job-positions from Level Column\n",
    "y = salaries_df[\"Salary\"].values.reshape(-1, 1)"
   ]
  },
  {
   "cell_type": "markdown",
   "id": "15770953-89c5-479d-b467-364cf4b830a8",
   "metadata": {},
   "source": [
    "No splitting of data because we want to leverage the maximum data for training "
   ]
  },
  {
   "cell_type": "markdown",
   "id": "71360153-95f4-470a-8f3c-d57d0aab5812",
   "metadata": {},
   "source": [
    "#### Equation for Linear Regression\n",
    "* y = b0 + b1(x1) "
   ]
  },
  {
   "cell_type": "markdown",
   "id": "771e6236-b521-4405-9519-5b57a5ae7fed",
   "metadata": {},
   "source": [
    "#### Training the Linear Regression Model"
   ]
  },
  {
   "cell_type": "code",
   "execution_count": 4,
   "id": "258c5713-724f-41cb-95b1-c29f8fea7d05",
   "metadata": {},
   "outputs": [],
   "source": [
    "from sklearn.linear_model import LinearRegression\n",
    "lin_reg = LinearRegression()\n",
    "lin_reg.fit(X,y);"
   ]
  },
  {
   "cell_type": "markdown",
   "id": "a47abb0c-3f35-4dd0-aec7-de4494bab29f",
   "metadata": {},
   "source": [
    "#### Equation for Polynomial Regression\n",
    "* y = b0 + b1(x1) + b2(x1^2) + ... + bn(x1^n)"
   ]
  },
  {
   "cell_type": "markdown",
   "id": "de9b53bd-d69a-4948-818a-6b2a69f0a9e7",
   "metadata": {},
   "source": [
    "#### Training the Polynomial Regression Model\n",
    "\n",
    "Generating new features is a common technique in machine learning to improve the performance of a model. In the case of **polynomial regression**, generating new features by raising the original features to higher powers allows the model to capture more complex, non-linear relationships between the independent and dependent variables.\r\n",
    "\r\n",
    "In other words, by generating new features, we can transform a non-linear relationship into a linear relationship that can be modeled using linear regression. This can result in a better fit to the data and more accurate predictions."
   ]
  },
  {
   "cell_type": "code",
   "execution_count": 5,
   "id": "1998f140-667e-48eb-96d4-103a2b02586b",
   "metadata": {},
   "outputs": [],
   "source": [
    "from sklearn.preprocessing import PolynomialFeatures\n",
    "poly_reg = PolynomialFeatures(degree = 2) # creates an instance of the PolynomialFeatures class with a degree of 2, meaning that \n",
    "                                          # it will generate new features that are squared versions of the original features \n",
    "\n",
    "# Infact this line is creating this equation for us: y = b0 + b1(x1) + b2(x1^2) + ... + bn(x1^n). \n",
    "# With degree set to 2, we have our variables till the 3rd term  i.e b2(x1^2)\n",
    "\n",
    "X_poly = poly_reg.fit_transform(X)  # The fit_transform method transforms the original feature matrix X into a new matrix X_poly\n",
    "                                    # that contains both the original features and their squared versions.\n",
    "# X_poly is the matrix of our new features\n",
    "lin_reg_2 = LinearRegression()\n",
    "lin_reg_2.fit(X_poly,y);"
   ]
  },
  {
   "cell_type": "markdown",
   "id": "49da7175-3588-44d5-98f0-8576ee965d49",
   "metadata": {},
   "source": [
    "#### Visualising the Linear Regression Results"
   ]
  },
  {
   "cell_type": "code",
   "execution_count": 6,
   "id": "8dd41d30-0fa6-4107-b673-2029d9dcb080",
   "metadata": {},
   "outputs": [
    {
     "data": {
      "image/png": "[encoded data removed]",
      "text/plain": [
       "<Figure size 640x480 with 1 Axes>"
      ]
     },
     "metadata": {},
     "output_type": "display_data"
    }
   ],
   "source": [
    "plt.scatter(X,y,color=\"darkblue\") # Plotting original features\n",
    "plt.plot(X,lin_reg.predict(X),color=\"red\") # Plotting predicted values\n",
    "plt.xlabel(\"Position Level\")\n",
    "plt.ylabel(\"Salary\")\n",
    "plt.title(\"Truth/Bluff (Linear Regression)\")\n",
    "plt.show();"
   ]
  },
  {
   "cell_type": "markdown",
   "id": "eb807722-251b-4141-a529-c24f95658d1a",
   "metadata": {},
   "source": [
    "This graph tells us that the linear regression model is not well adapted for the curve"
   ]
  },
  {
   "cell_type": "markdown",
   "id": "ec207a94-e0a9-4f64-8cf4-6526130ff5a9",
   "metadata": {},
   "source": [
    "#### Visualizing the Polynomial Regression results"
   ]
  },
  {
   "cell_type": "code",
   "execution_count": 7,
   "id": "4a402e0d-c057-44ea-a862-34da8ff096c2",
   "metadata": {},
   "outputs": [
    {
     "data": {
      "image/png": "[encoded data removed]",
      "text/plain": [
       "<Figure size 640x480 with 1 Axes>"
      ]
     },
     "metadata": {},
     "output_type": "display_data"
    }
   ],
   "source": [
    "plt.scatter(X,y,color=\"darkblue\") # Plotting original features\n",
    "plt.plot(X,lin_reg_2.predict(X_poly),color=\"red\") # X_poly is the variable that is giving us the new features of our polynomial regression equation\n",
    "plt.xlabel(\"Position Level\")\n",
    "plt.ylabel(\"Salary\")\n",
    "plt.title(\"Truth/Bluff (Polynomial Regression)\")\n",
    "plt.show();"
   ]
  },
  {
   "cell_type": "markdown",
   "id": "0692b795-d696-4236-8023-5910148dc1fa",
   "metadata": {},
   "source": [
    "This is the plot with n=2, with increasing the exponent n, we will start getting even better results. You can change the value of degree parameter in the \"training polynomial regression\" section. *(Though doing so can or might result in overfitting)*"
   ]
  },
  {
   "cell_type": "markdown",
   "id": "4e4dcf1b-59bc-4be5-b88e-7bf4641bcab8",
   "metadata": {},
   "source": [
    "#### Predicting a new result with Linear Regression"
   ]
  },
  {
   "cell_type": "code",
   "execution_count": 8,
   "id": "b0c5229e-bf8a-4543-bc95-a7827f599930",
   "metadata": {},
   "outputs": [
    {
     "data": {
      "text/plain": [
       "array([[330378.78787879]])"
      ]
     },
     "execution_count": 8,
     "metadata": {},
     "output_type": "execute_result"
    }
   ],
   "source": [
    "lin_reg.predict([[6.5]]) # The predict method demands a 2-d Array as an argument"
   ]
  },
  {
   "cell_type": "markdown",
   "id": "4796959a-ed1f-46b1-8ef7-f0e9dd86e5d9",
   "metadata": {},
   "source": [
    "This tells us that linear regression model has performed wrongly and predicted a wrong value. The value should be between 150k - 200k"
   ]
  },
  {
   "cell_type": "markdown",
   "id": "8db0fda1-bd65-4591-90f7-be4458d4454e",
   "metadata": {},
   "source": [
    "#### Predicting a new result with Polynomial Regression"
   ]
  },
  {
   "cell_type": "code",
   "execution_count": 9,
   "id": "6870ce49-afb5-4918-9dfd-0b044ad3dad3",
   "metadata": {},
   "outputs": [
    {
     "data": {
      "text/plain": [
       "array([[189498.10606061]])"
      ]
     },
     "execution_count": 9,
     "metadata": {},
     "output_type": "execute_result"
    }
   ],
   "source": [
    "lin_reg_2.predict(poly_reg.fit_transform([[6.5]]))"
   ]
  },
  {
   "cell_type": "markdown",
   "id": "af8fb2eb-8343-4923-b277-bbedb81e7242",
   "metadata": {},
   "source": [
    "The reason you need to put **poly_reg.fit_transform(*number you like to predict*)** as an argument to **lin_reg_2.predict()** is because \n",
    "\n",
    "the predict method of the LinearRegression class expects its input to have the same number of features as the data used to fit the model1. Since you fit the model using the transformed feature matrix X_poly, which was generated by calling poly_reg.fit_transform(X), you need to transform any new data you want to predict on using the same transformation. This ensures that the new data has the same number of features as the data used to fit the model."
   ]
  },
  {
   "cell_type": "code",
   "execution_count": null,
   "id": "2ed6524b-c29b-43a1-b7c8-7f1ab50ae40f",
   "metadata": {},
   "outputs": [],
   "source": []
  }
 ],
 "metadata": {
  "kernelspec": {
   "display_name": "Python 3 (ipykernel)",
   "language": "python",
   "name": "python3"
  },
  "language_info": {
   "codemirror_mode": {
    "name": "ipython",
    "version": 3
   },
   "file_extension": ".py",
   "mimetype": "text/x-python",
   "name": "python",
   "nbconvert_exporter": "python",
   "pygments_lexer": "ipython3",
   "version": "3.11.4"
  }
 },
 "nbformat": 4,
 "nbformat_minor": 5
}
